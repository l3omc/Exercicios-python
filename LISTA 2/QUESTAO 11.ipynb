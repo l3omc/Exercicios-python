{
 "cells": [
  {
   "cell_type": "code",
   "execution_count": null,
   "id": "be444e36",
   "metadata": {},
   "outputs": [],
   "source": [
    "#-------------------LISTA 2 11---------------------------\n",
    "#As Organizações Tabajara resolveram dar um aumento de salário aos seus colaboradores e lhe contraram para desenvolver o programa que calculará os reajustes.\n",
    "#Faça um programa que recebe o salário de um colaborador e o reajuste segundo o seguinte critério, baseado no salário atual:\n",
    "#salários até R$ 280,00 (incluindo) : aumento de 20%\n",
    "#salários entre R$ 280,00 e R$ 700,00 : aumento de 15%\n",
    "#salários entre R$ 700,00 e R$ 1500,00 : aumento de 10%\n",
    "#salários de R$ 1500,00 em diante : aumento de 5% Após o aumento ser realizado, informe na tela:\n",
    "#o salário antes do reajuste;\n",
    "#o percentual de aumento aplicado;\n",
    "#o valor do aumento;\n",
    "#o novo salário, após o aumento."
   ]
  },
  {
   "cell_type": "code",
   "execution_count": 2,
   "id": "96d5dd47",
   "metadata": {},
   "outputs": [
    {
     "ename": "SyntaxError",
     "evalue": "unterminated string literal (detected at line 3) (531995848.py, line 3)",
     "output_type": "error",
     "traceback": [
      "\u001b[0;36m  File \u001b[0;32m\"/tmp/ipykernel_8574/531995848.py\"\u001b[0;36m, line \u001b[0;32m3\u001b[0m\n\u001b[0;31m    print(\"As Organizações Tabajara resolveram dar um aumento de salário aos seus colaboradores\\n\u001b[0m\n\u001b[0m          ^\u001b[0m\n\u001b[0;31mSyntaxError\u001b[0m\u001b[0;31m:\u001b[0m unterminated string literal (detected at line 3)\n"
     ]
    }
   ],
   "source": [
    "print(\"---------------------\")\n",
    "print(\"---------------------\")\n",
    "print(\" As Organizações Tabajara resolveram dar um aumento de salário aos seus colaboradores\\n\n",
    "      e lhe contraram para desenvolver\\n\n",
    "o programa que calculará os reajustes.\\n\n",
    "Faça um programa que recebe o salário de um colaborador e o reajuste segundo o seguinte critério,\\n\n",
    "baseado no salário atual:\\n\n",
    "salários até R$ 280,00 (incluindo) : aumento de 20%\\n\n",
    "salários entre R$ 280,00 e R$ 700,00 : aumento de 15%\\n\n",
    "salários entre R$ 700,00 e R$ 1500,00 : aumento de 10%\\n\n",
    "salários de R$ 1500,00 em diante : aumento de 5% Após o aumento ser realizado, informe na tela:\\n\n",
    "o salário antes do reajuste;\\n\n",
    "o percentual de aumento aplicado; \\n\n",
    "o valor do aumento;\\n\n",
    "o novo salário, após o aumento.\")\n",
    "\n",
    "print(\"---------------------\")\n",
    "print(\"---------------------\")"
   ]
  },
  {
   "cell_type": "code",
   "execution_count": null,
   "id": "26e2f73c",
   "metadata": {},
   "outputs": [],
   "source": [
    "print(\"---------------------\")\n",
    "print(\"  \")\n",
    "print(\"---------------------\")"
   ]
  },
  {
   "cell_type": "code",
   "execution_count": null,
   "id": "2c47aea8",
   "metadata": {},
   "outputs": [],
   "source": []
  }
 ],
 "metadata": {
  "kernelspec": {
   "display_name": "Python 3 (ipykernel)",
   "language": "python",
   "name": "python3"
  },
  "language_info": {
   "codemirror_mode": {
    "name": "ipython",
    "version": 3
   },
   "file_extension": ".py",
   "mimetype": "text/x-python",
   "name": "python",
   "nbconvert_exporter": "python",
   "pygments_lexer": "ipython3",
   "version": "3.10.6"
  }
 },
 "nbformat": 4,
 "nbformat_minor": 5
}
