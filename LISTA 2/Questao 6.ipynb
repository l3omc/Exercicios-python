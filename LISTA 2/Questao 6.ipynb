{
 "cells": [
  {
   "cell_type": "code",
   "execution_count": null,
   "id": "734051a4",
   "metadata": {},
   "outputs": [],
   "source": [
    "#-----------------LISTA 2 Q6-------------------------------\n",
    "#Faça um Programa que leia três números e mostre o maior deles.\n"
   ]
  },
  {
   "cell_type": "code",
   "execution_count": null,
   "id": "d236dc2f",
   "metadata": {},
   "outputs": [],
   "source": [
    "print(\"Digite 3 números.\\n\")\n",
    "n1 = input(\"número 1 \")\n",
    "n2 = input(\"número 2 \")\n",
    "n3 = input(\"número 3 \")"
   ]
  },
  {
   "cell_type": "code",
   "execution_count": null,
   "id": "2162d7bf",
   "metadata": {},
   "outputs": [],
   "source": [
    "if "
   ]
  },
  {
   "cell_type": "code",
   "execution_count": null,
   "id": "fb4091ec",
   "metadata": {},
   "outputs": [],
   "source": []
  },
  {
   "cell_type": "code",
   "execution_count": null,
   "id": "aa203229",
   "metadata": {},
   "outputs": [],
   "source": []
  }
 ],
 "metadata": {
  "kernelspec": {
   "display_name": "Python 3 (ipykernel)",
   "language": "python",
   "name": "python3"
  },
  "language_info": {
   "codemirror_mode": {
    "name": "ipython",
    "version": 3
   },
   "file_extension": ".py",
   "mimetype": "text/x-python",
   "name": "python",
   "nbconvert_exporter": "python",
   "pygments_lexer": "ipython3",
   "version": "3.10.6"
  }
 },
 "nbformat": 4,
 "nbformat_minor": 5
}
