{
 "cells": [
  {
   "cell_type": "code",
   "execution_count": null,
   "id": "eeda1103",
   "metadata": {},
   "outputs": [],
   "source": [
    "#-------------------LISTA 2 10---------------------------\n",
    "#Faça um Programa que pergunte em que turno você estuda.\n",
    "#Peça para digitar M-matutino ou V-Vespertino ou N- Noturno. \n",
    "#Imprima a mensagem \"Bom Dia!\", \"Boa Tarde!\" ou \"Boa Noite!\" ou \"Valor Inválido!\", \n",
    "#conforme o caso."
   ]
  },
  {
   "cell_type": "code",
   "execution_count": 2,
   "id": "181dcaa6",
   "metadata": {},
   "outputs": [
    {
     "name": "stdout",
     "output_type": "stream",
     "text": [
      "---------------------\n",
      "  \n",
      " Faça um Programa que pergunte em que turno você estuda.  \n",
      " Peça para digitar M-matutino ou V-Vespertino ou N- Noturno. \n",
      " Imprima a mensagem Bom Dia!, Boa Tarde! ou Boa Noite! ou Valor Inválido! \n",
      "\n",
      "  \n",
      "---------------------\n"
     ]
    }
   ],
   "source": [
    "print(\"---------------------\")\n",
    "print(\"  \")\n",
    "print(\" Faça um Programa que pergunte em que turno você estuda.  \")\n",
    "print(\" Peça para digitar M-matutino ou V-Vespertino ou N- Noturno. \")\n",
    "print(\" Imprima a mensagem Bom Dia!, Boa Tarde! ou Boa Noite! ou Valor Inválido! \\n\" )\n",
    "print(\"  \")\n",
    "print(\"---------------------\")"
   ]
  },
  {
   "cell_type": "code",
   "execution_count": 2,
   "id": "8be7c03b",
   "metadata": {},
   "outputs": [
    {
     "name": "stdout",
     "output_type": "stream",
     "text": [
      "Em que turno voce estuda M para matutino V para vespertino e N para noturno \n",
      "v\n",
      "boa tarde!\n"
     ]
    }
   ],
   "source": [
    "aux = input(\"Em que turno voce estuda M para matutino V para vespertino e N para noturno \\n\")\n",
    "if(aux.upper() == \"M\"):\n",
    "    print(\"Bom dia!\")\n",
    "if(aux.upper() == \"V\"):\n",
    "    print(\"boa tarde!\")\n",
    "if(aux.upper() == \"N\"):\n",
    "    print(\"Boa Noite!\")\n",
    "if(aux.upper()!= \"M\" and aux.upper()!= \"V\" and aux.upper()!= \"N\" ):\n",
    "    print(\"valor inválido\")\n"
   ]
  },
  {
   "cell_type": "code",
   "execution_count": null,
   "id": "f32b5113",
   "metadata": {},
   "outputs": [],
   "source": []
  }
 ],
 "metadata": {
  "kernelspec": {
   "display_name": "Python 3 (ipykernel)",
   "language": "python",
   "name": "python3"
  },
  "language_info": {
   "codemirror_mode": {
    "name": "ipython",
    "version": 3
   },
   "file_extension": ".py",
   "mimetype": "text/x-python",
   "name": "python",
   "nbconvert_exporter": "python",
   "pygments_lexer": "ipython3",
   "version": "3.10.6"
  }
 },
 "nbformat": 4,
 "nbformat_minor": 5
}
