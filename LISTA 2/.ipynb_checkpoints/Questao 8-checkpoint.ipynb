{
 "cells": [
  {
   "cell_type": "code",
   "execution_count": null,
   "id": "05e9301d",
   "metadata": {},
   "outputs": [],
   "source": [
    "#-------------------LISTA 2 Q8---------------------------\n",
    "\n",
    "\n",
    "#Faça um programa que pergunte o preço de três produtos e informe qual produto você deve comprar, \n",
    "#sabendo que a decisão é sempre pelo mais barato.\n"
   ]
  },
  {
   "cell_type": "code",
   "execution_count": 11,
   "id": "d44475d2",
   "metadata": {},
   "outputs": [
    {
     "name": "stdout",
     "output_type": "stream",
     "text": [
      "Digite o valor dos 3 produtos\n",
      "preço do produto 1 3\n",
      "preço do produto 2 2\n",
      "preço do produto 3 1\n"
     ]
    }
   ],
   "source": [
    "print(\"Digite o valor dos 3 produtos\")\n",
    "p1 = float(input(\"preço do produto 1 \"))\n",
    "p2 = float(input(\"preço do produto 2 \"))\n",
    "p3 = float(input(\"preço do produto 3 \"))"
   ]
  },
  {
   "cell_type": "code",
   "execution_count": 19,
   "id": "89b4db1a",
   "metadata": {},
   "outputs": [
    {
     "name": "stdout",
     "output_type": "stream",
     "text": [
      "o produto menor  1.0\n"
     ]
    }
   ],
   "source": [
    "if(p1 <= p2 and p1 <= p3):\n",
    "    print(\"o produto menor \", p1)\n",
    "if(p2 <= p1 and p2 <= p3):\n",
    "    print(\"o produto menor \", p2)\n",
    "if(p3 <= p1 and p3 <= p2):\n",
    "    print(\"o produto menor \", p3)"
   ]
  },
  {
   "cell_type": "code",
   "execution_count": null,
   "id": "97f428d3",
   "metadata": {},
   "outputs": [],
   "source": []
  }
 ],
 "metadata": {
  "kernelspec": {
   "display_name": "Python 3 (ipykernel)",
   "language": "python",
   "name": "python3"
  },
  "language_info": {
   "codemirror_mode": {
    "name": "ipython",
    "version": 3
   },
   "file_extension": ".py",
   "mimetype": "text/x-python",
   "name": "python",
   "nbconvert_exporter": "python",
   "pygments_lexer": "ipython3",
   "version": "3.10.6"
  }
 },
 "nbformat": 4,
 "nbformat_minor": 5
}
