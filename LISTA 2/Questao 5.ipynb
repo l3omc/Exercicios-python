{
 "cells": [
  {
   "cell_type": "code",
   "execution_count": null,
   "id": "51c301f1",
   "metadata": {},
   "outputs": [],
   "source": [
    "#-------------------LISTA 2 Q5---------------------------\n",
    "#Faça um programa para a leitura de duas notas parciais de um aluno. \n",
    "#O programa deve calcular a média alcançada por aluno e apresentar:\n",
    "    #\ta-A mensagem \"Aprovado\", se a média alcançada for maior ou igual a sete;\n",
    "    #\tb-A mensagem \"Reprovado\", se a média for menor do que sete;\n",
    "    #\tc-A mensagem \"Aprovado com Distinção\", se a média for igual a dez.\n"
   ]
  },
  {
   "cell_type": "code",
   "execution_count": 1,
   "id": "ef3ac546",
   "metadata": {},
   "outputs": [
    {
     "name": "stdout",
     "output_type": "stream",
     "text": [
      "Digite as notas dos alunos :\n",
      "\n",
      "Nota 1 :\n",
      "8\n",
      "Nota 2 : \n",
      "9\n"
     ]
    }
   ],
   "source": [
    "print(\"Digite as notas dos alunos :\\n\")\n",
    "nota1=input(\"Nota 1 :\\n\")\n",
    "nota2= input(\"Nota 2 : \\n\")"
   ]
  },
  {
   "cell_type": "code",
   "execution_count": 19,
   "id": "dbe4fcf1",
   "metadata": {},
   "outputs": [
    {
     "name": "stdout",
     "output_type": "stream",
     "text": [
      "APROVADO, media : 8.5\n"
     ]
    }
   ],
   "source": [
    "media = (int(nota1) + int(nota2))/2\n",
    "\n",
    "if(media < 7):\n",
    "    print(\"REPROVADO, media \", media)\n",
    "if(media>= 7):\n",
    "    print(\"APROVADO, media :\", media)\n",
    "if(media == 10):\n",
    "    print(\"APROVADO COM DISTINÇÃO, media \", media)"
   ]
  }
 ],
 "metadata": {
  "kernelspec": {
   "display_name": "Python 3 (ipykernel)",
   "language": "python",
   "name": "python3"
  },
  "language_info": {
   "codemirror_mode": {
    "name": "ipython",
    "version": 3
   },
   "file_extension": ".py",
   "mimetype": "text/x-python",
   "name": "python",
   "nbconvert_exporter": "python",
   "pygments_lexer": "ipython3",
   "version": "3.10.6"
  }
 },
 "nbformat": 4,
 "nbformat_minor": 5
}
