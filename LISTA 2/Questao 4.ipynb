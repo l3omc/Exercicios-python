{
 "cells": [
  {
   "cell_type": "code",
   "execution_count": null,
   "id": "d48e8ed2",
   "metadata": {},
   "outputs": [],
   "source": [
    "#--------------------LISTA 2 Q4---------------------\n",
    "#Faça um Programa que verifique se uma letra digitada é vogal ou consoante.\n"
   ]
  },
  {
   "cell_type": "code",
   "execution_count": null,
   "id": "fd9e76bd",
   "metadata": {},
   "outputs": [],
   "source": [
    "print(\"Faça um Programa que verifique se uma letra digitada é vogal ou consoante.\\n\")\n",
    "print(\"--------------\\n\")"
   ]
  },
  {
   "cell_type": "code",
   "execution_count": 3,
   "id": "963c4a3c",
   "metadata": {},
   "outputs": [
    {
     "name": "stdout",
     "output_type": "stream",
     "text": [
      "Digite uma letra: \n",
      "x\n"
     ]
    }
   ],
   "source": [
    "letra = input(\"Digite uma letra: \\n\")\n",
    "vogais = ['a','e','i','o','u']\n"
   ]
  },
  {
   "cell_type": "code",
   "execution_count": 15,
   "id": "3258114f",
   "metadata": {},
   "outputs": [
    {
     "name": "stdout",
     "output_type": "stream",
     "text": [
      "é uma consoante, letra   x\n",
      "é uma consoante, letra   x\n",
      "é uma consoante, letra   x\n",
      "é uma consoante, letra   x\n",
      "é uma consoante, letra   x\n"
     ]
    }
   ],
   "source": [
    "for i in vogais:\n",
    "    if letra == i:\n",
    "        print(\"é uma vogal, letra  \", letra)\n",
    "        break\n",
    "    else:\n",
    "        print(\"é uma consoante, letra  \", letra)\n",
    "    "
   ]
  },
  {
   "cell_type": "code",
   "execution_count": 11,
   "id": "072c25a5",
   "metadata": {},
   "outputs": [
    {
     "name": "stdout",
     "output_type": "stream",
     "text": [
      "  a\n",
      "  e\n",
      "  i\n",
      "  o\n",
      "  u\n"
     ]
    }
   ],
   "source": [
    "for i in vogais:\n",
    "    print(\" \", i)"
   ]
  },
  {
   "cell_type": "code",
   "execution_count": null,
   "id": "10a9ab69",
   "metadata": {},
   "outputs": [],
   "source": []
  }
 ],
 "metadata": {
  "kernelspec": {
   "display_name": "Python 3 (ipykernel)",
   "language": "python",
   "name": "python3"
  },
  "language_info": {
   "codemirror_mode": {
    "name": "ipython",
    "version": 3
   },
   "file_extension": ".py",
   "mimetype": "text/x-python",
   "name": "python",
   "nbconvert_exporter": "python",
   "pygments_lexer": "ipython3",
   "version": "3.10.6"
  }
 },
 "nbformat": 4,
 "nbformat_minor": 5
}
