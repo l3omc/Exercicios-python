{
 "cells": [
  {
   "cell_type": "code",
   "execution_count": null,
   "id": "3c6f1d47",
   "metadata": {},
   "outputs": [],
   "source": [
    "#-------------------LISTA 3 3---------------------------\n",
    "\n",
    "# Faça um programa que leia e valide as seguintes informações:\n",
    "# a- Nome: maior que 3 caracteres;\n",
    "# b-Idade: entre 0 e 150;\n",
    "# c-Salário: maior que zero;\n",
    "# d- Sexo: 'f' ou 'm';\n",
    "# e- Estado Civil: 's', 'c', 'v', 'd';\n",
    "#\n",
    "#\n",
    "#"
   ]
  },
  {
   "cell_type": "code",
   "execution_count": 2,
   "id": "f5a95eeb",
   "metadata": {},
   "outputs": [
    {
     "name": "stdout",
     "output_type": "stream",
     "text": [
      "---------------------\n",
      " Faça um programa que leia e valide as seguintes informações: \n",
      "a- Nome: maior que 3 caracteres;\n",
      " \n",
      "b-Idade: entre 0 e 150;\n",
      " \n",
      " c-Salário: maior que zero;\n",
      "\n",
      "d- Sexo: 'f' ou 'm';\n",
      "  \n",
      "e- Estado Civil: 's', 'c', 'v', 'd';  \n",
      "  \n",
      "---------------------\n"
     ]
    }
   ],
   "source": [
    "print(\"---------------------------------------------------------------\")\n",
    "print(\" Faça um programa que leia e valide as seguintes informações: \")\n",
    "print(\"a- Nome: maior que 3 caracteres;\\n \")      \n",
    "print(\"b-Idade: entre 0 e 150;\\n \")      \n",
    "print(\"c-Salário: maior que zero;\\n\")      \n",
    "print(\"d- Sexo: 'f' ou 'm';\\n  \")      \n",
    "print(\"e- Estado Civil: 's', 'c', 'v', 'd';  \")      \n",
    "print(\"  \")\n",
    "print(\"---------------------------------------------------------------\")"
   ]
  },
  {
   "cell_type": "code",
   "execution_count": null,
   "id": "8642797b",
   "metadata": {},
   "outputs": [],
   "source": [
    "nome = input(\"Digite seu nome\")"
   ]
  }
 ],
 "metadata": {
  "kernelspec": {
   "display_name": "Python 3 (ipykernel)",
   "language": "python",
   "name": "python3"
  },
  "language_info": {
   "codemirror_mode": {
    "name": "ipython",
    "version": 3
   },
   "file_extension": ".py",
   "mimetype": "text/x-python",
   "name": "python",
   "nbconvert_exporter": "python",
   "pygments_lexer": "ipython3",
   "version": "3.10.6"
  }
 },
 "nbformat": 4,
 "nbformat_minor": 5
}
