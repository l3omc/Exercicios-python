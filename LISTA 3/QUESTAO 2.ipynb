{
 "cells": [
  {
   "cell_type": "code",
   "execution_count": null,
   "id": "4ad13077",
   "metadata": {},
   "outputs": [],
   "source": [
    "#-------------------LISTA 3 2 ---------------------------\n",
    "\n",
    "#Faça um programa que leia um nome de usuário e a sua senha e não aceite a senha igual ao nome do usuário,\n",
    "#mostrando uma mensagem de erro e voltando a pedir as informações.\n"
   ]
  },
  {
   "cell_type": "code",
   "execution_count": null,
   "id": "ec2c03b0",
   "metadata": {},
   "outputs": [],
   "source": [
    "print(\"---------------------\")\n",
    "print(\" Faça um programa que leia um nome de usuário e a sua senha e não aceite a senha igual ao nome do usuário, \")\n",
    "print(\"mostrando uma mensagem de erro e voltando a pedir as informações.\")\n",
    "print(\"---------------------\")"
   ]
  },
  {
   "cell_type": "code",
   "execution_count": 3,
   "id": "f34b0925",
   "metadata": {},
   "outputs": [
    {
     "name": "stdout",
     "output_type": "stream",
     "text": [
      "digite seu nome de usúario : leo\n",
      "digite a sua senha : leoa\n",
      "senha válida \n"
     ]
    }
   ],
   "source": [
    "usuario = input(\"digite seu nome de usúario : \" )\n",
    "senha =  input(\"digite a sua senha : \")\n",
    "while usuario == senha:\n",
    "    print(\"Senha igual ao usúario\\n Por favor, digite novamente \")\n",
    "    senha = input(\"digite a sua senha\")\n",
    "print(\"senha válida \")"
   ]
  },
  {
   "cell_type": "code",
   "execution_count": null,
   "id": "34e174e2",
   "metadata": {},
   "outputs": [],
   "source": []
  }
 ],
 "metadata": {
  "kernelspec": {
   "display_name": "Python 3 (ipykernel)",
   "language": "python",
   "name": "python3"
  },
  "language_info": {
   "codemirror_mode": {
    "name": "ipython",
    "version": 3
   },
   "file_extension": ".py",
   "mimetype": "text/x-python",
   "name": "python",
   "nbconvert_exporter": "python",
   "pygments_lexer": "ipython3",
   "version": "3.10.6"
  }
 },
 "nbformat": 4,
 "nbformat_minor": 5
}
