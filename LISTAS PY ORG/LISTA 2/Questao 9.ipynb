{
 "cells": [
  {
   "cell_type": "code",
   "execution_count": null,
   "id": "d796690e",
   "metadata": {},
   "outputs": [],
   "source": [
    "#-------------------LISTA 2 Q9---------------------------\n",
    "#Faça um Programa que leia três números e mostre-os em ordem decrescente.\n"
   ]
  },
  {
   "cell_type": "code",
   "execution_count": null,
   "id": "6d7dc4ca",
   "metadata": {},
   "outputs": [],
   "source": [
    "print(\"Faça um Programa que leia três números e mostre-os em ordem decrescente. \")\n",
    "print(\"----------------------\")"
   ]
  },
  {
   "cell_type": "code",
   "execution_count": 11,
   "id": "f112eb55",
   "metadata": {},
   "outputs": [
    {
     "name": "stdout",
     "output_type": "stream",
     "text": [
      "digite o numero 1 :  \n",
      "4\n",
      "digite o numero 2 :  \n",
      "8\n",
      "digite o numero 3 :  \n",
      "6\n"
     ]
    }
   ],
   "source": [
    "n1 = input(\"digite o numero 1 :  \\n\")\n",
    "n2 = input(\"digite o numero 2 :  \\n\")\n",
    "n3 = input(\"digite o numero 3 :  \\n\")\n"
   ]
  },
  {
   "cell_type": "code",
   "execution_count": 12,
   "id": "ccbe7d62",
   "metadata": {},
   "outputs": [
    {
     "name": "stdout",
     "output_type": "stream",
     "text": [
      "  8 6 4\n"
     ]
    }
   ],
   "source": [
    "if(int(n1) >= int(n2) and int(n1) >= int(n3) and int(n2) >= int(n3)):\n",
    "    print(\"a ordem é \", n1, n2 ,n3) \n",
    "if(int(n1) >= int(n2) and int(n1) >= int(n3) and int(n3) >= int(n2)):\n",
    "    print(\"a ordem é \", n1, n3 ,n2) \n",
    "\n",
    "if(int(n2) >= int(n1) and int(n2) >= int(n3) and int(n1) >= int(n3)):\n",
    "    print(\" \", n2,n1,n3)\n",
    "if(int(n2) >= int(n1) and int(n2) >= int(n3) and int(n3) >= int(n1)):\n",
    "    print(\" \", n2,n3,n1)\n",
    "\n",
    "if(int(n3) >= int(n1) and int(n3) >= int(n2) and int(n2) >= int(n1)):\n",
    "    print(\"ddd\", n3, n2,n1)\n",
    "if(int(n3) >= int(n1) and int(n3) >= int(n2) and int(n1) >= int(n2)):\n",
    "    print(\"ddd\", n3, n1,n2)\n"
   ]
  },
  {
   "cell_type": "code",
   "execution_count": null,
   "id": "68c29884",
   "metadata": {},
   "outputs": [],
   "source": []
  }
 ],
 "metadata": {
  "kernelspec": {
   "display_name": "Python 3 (ipykernel)",
   "language": "python",
   "name": "python3"
  },
  "language_info": {
   "codemirror_mode": {
    "name": "ipython",
    "version": 3
   },
   "file_extension": ".py",
   "mimetype": "text/x-python",
   "name": "python",
   "nbconvert_exporter": "python",
   "pygments_lexer": "ipython3",
   "version": "3.10.6"
  }
 },
 "nbformat": 4,
 "nbformat_minor": 5
}
