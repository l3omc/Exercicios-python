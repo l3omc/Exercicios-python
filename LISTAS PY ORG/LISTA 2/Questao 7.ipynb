{
 "cells": [
  {
   "cell_type": "code",
   "execution_count": null,
   "id": "e30da82a",
   "metadata": {},
   "outputs": [],
   "source": [
    "#-------------------LISTA 2 Q7---------------------------\n",
    "#Faça um Programa que leia três números e mostre o maior e o menor deles.\n"
   ]
  },
  {
   "cell_type": "code",
   "execution_count": null,
   "id": "8ff6294a",
   "metadata": {},
   "outputs": [],
   "source": [
    "print(\"Faça um Programa que leia três números e mostre o maior e o menor deles. \" )"
   ]
  },
  {
   "cell_type": "code",
   "execution_count": 2,
   "id": "0549f8e4",
   "metadata": {},
   "outputs": [
    {
     "name": "stdout",
     "output_type": "stream",
     "text": [
      "Digite tres números.\n",
      "Digite o número 1 5\n",
      "Digite o numero 2 3\n",
      "Digite o numero 3 8\n"
     ]
    }
   ],
   "source": [
    "print(\"Digite tres números.\")\n",
    "n1 = input(\"Digite o número 1 \")\n",
    "n2 = input(\"Digite o numero 2 \")\n",
    "n3 = input(\"Digite o numero 3 \")\n"
   ]
  },
  {
   "cell_type": "code",
   "execution_count": 3,
   "id": "6b577c0d",
   "metadata": {},
   "outputs": [
    {
     "name": "stdout",
     "output_type": "stream",
     "text": [
      "o maior e o menor sao  8 3\n"
     ]
    }
   ],
   "source": [
    "if(int(n1) >= int(n2) and int(n1) >= int(n3) and int(n2) >= int(n3)):\n",
    "    print(\"o maior e o menor sao \", n1, n3) \n",
    "if(int(n1) >= int(n2) and int(n1) >= int(n3) and int(n3) >= int(n2)):\n",
    "    print(\"o maior e o menor sao \", n1,n2) \n",
    "\n",
    "if(int(n2) >= int(n1) and int(n2) >= int(n3) and int(n1) >= int(n3)):\n",
    "    print(\"o maior e o menor sao \", n2,n3)\n",
    "if(int(n2) >= int(n1) and int(n2) >= int(n3) and int(n3) >= int(n1)):\n",
    "    print(\" o maior e o menor sao\", n2,n1)\n",
    "\n",
    "if(int(n3) >= int(n1) and int(n3) >= int(n2) and int(n2) >= int(n1)):\n",
    "    print(\"o maior e o menor sao \", n3, n1)\n",
    "if(int(n3) >= int(n1) and int(n3) >= int(n2) and int(n1) >= int(n2)):\n",
    "    print(\"o maior e o menor sao \", n3, n2)\n"
   ]
  },
  {
   "cell_type": "code",
   "execution_count": null,
   "id": "427e0c6c",
   "metadata": {},
   "outputs": [],
   "source": []
  }
 ],
 "metadata": {
  "kernelspec": {
   "display_name": "Python 3 (ipykernel)",
   "language": "python",
   "name": "python3"
  },
  "language_info": {
   "codemirror_mode": {
    "name": "ipython",
    "version": 3
   },
   "file_extension": ".py",
   "mimetype": "text/x-python",
   "name": "python",
   "nbconvert_exporter": "python",
   "pygments_lexer": "ipython3",
   "version": "3.10.6"
  }
 },
 "nbformat": 4,
 "nbformat_minor": 5
}
