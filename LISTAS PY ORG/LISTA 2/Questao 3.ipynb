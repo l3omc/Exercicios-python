{
 "cells": [
  {
   "cell_type": "code",
   "execution_count": null,
   "id": "fa03dc3a",
   "metadata": {},
   "outputs": [],
   "source": [
    "#-------------------LISTA 2 QUESTAO 3-----------------------\n",
    "# Faça um Programa que verifique se uma letra digitada é \"F\" ou \"M\". Conforme a letra escrever: F - Feminino, M - Masculino, Sexo Inválido."
   ]
  },
  {
   "cell_type": "code",
   "execution_count": 3,
   "id": "6076b740",
   "metadata": {},
   "outputs": [
    {
     "name": "stdout",
     "output_type": "stream",
     "text": [
      "Faça um Programa que verifique se uma letra digitada é F ou M. Conforme a letra escrever:\n",
      " F - Feminino, M - Masculino, Sexo Inválido.\n"
     ]
    }
   ],
   "source": [
    "\n",
    "print(\"Faça um Programa que verifique se uma letra digitada é F ou M. Conforme a letra escrever:\\n F - Feminino, M - Masculino, Sexo Inválido.\")"
   ]
  },
  {
   "cell_type": "code",
   "execution_count": 12,
   "id": "93ad3202",
   "metadata": {},
   "outputs": [
    {
     "name": "stdout",
     "output_type": "stream",
     "text": [
      "Por favor digite o sexo M ou F m\n",
      "sexo masculino\n"
     ]
    }
   ],
   "source": [
    "sexo = input(\"Por favor digite o sexo M ou F \")\n",
    "\n",
    "if (sexo.upper() != \"M\" and sexo.upper() != \"F\"):\n",
    "    print(\"Sexo inválido\")\n",
    "if (sexo.upper() == \"M\"):\n",
    "    print(\"sexo masculino\")\n",
    "if(sexo.upper() == \"F\"): \n",
    "    print(\"sexo feminino\")"
   ]
  },
  {
   "cell_type": "code",
   "execution_count": null,
   "id": "7292fa8c",
   "metadata": {},
   "outputs": [],
   "source": []
  },
  {
   "cell_type": "code",
   "execution_count": null,
   "id": "1831e854",
   "metadata": {},
   "outputs": [],
   "source": []
  },
  {
   "cell_type": "code",
   "execution_count": null,
   "id": "d5560743",
   "metadata": {},
   "outputs": [],
   "source": []
  },
  {
   "cell_type": "code",
   "execution_count": null,
   "id": "5a93488b",
   "metadata": {},
   "outputs": [],
   "source": []
  }
 ],
 "metadata": {
  "kernelspec": {
   "display_name": "Python 3 (ipykernel)",
   "language": "python",
   "name": "python3"
  },
  "language_info": {
   "codemirror_mode": {
    "name": "ipython",
    "version": 3
   },
   "file_extension": ".py",
   "mimetype": "text/x-python",
   "name": "python",
   "nbconvert_exporter": "python",
   "pygments_lexer": "ipython3",
   "version": "3.10.6"
  }
 },
 "nbformat": 4,
 "nbformat_minor": 5
}
