{
 "cells": [
  {
   "cell_type": "code",
   "execution_count": null,
   "id": "d796690e",
   "metadata": {},
   "outputs": [],
   "source": [
    "#-------------------LISTA 2 Q9---------------------------\n",
    "#Faça um Programa que leia três números e mostre-os em ordem decrescente.\n"
   ]
  },
  {
   "cell_type": "code",
   "execution_count": null,
   "id": "6d7dc4ca",
   "metadata": {},
   "outputs": [],
   "source": [
    "print(\"Faça um Programa que leia três números e mostre-os em ordem decrescente. \")\n",
    "print(\"----------------------\")"
   ]
  },
  {
   "cell_type": "code",
   "execution_count": null,
   "id": "f112eb55",
   "metadata": {},
   "outputs": [],
   "source": [
    "n1 = input(\"digite o numero 1 :  \\n\")\n",
    "n2 = input(\"digite o numero 1 :  \\n\")\n",
    "n3 = input(\"digite o numero 1 :  \\n\")\n"
   ]
  }
 ],
 "metadata": {
  "kernelspec": {
   "display_name": "Python 3 (ipykernel)",
   "language": "python",
   "name": "python3"
  },
  "language_info": {
   "codemirror_mode": {
    "name": "ipython",
    "version": 3
   },
   "file_extension": ".py",
   "mimetype": "text/x-python",
   "name": "python",
   "nbconvert_exporter": "python",
   "pygments_lexer": "ipython3",
   "version": "3.10.6"
  }
 },
 "nbformat": 4,
 "nbformat_minor": 5
}
