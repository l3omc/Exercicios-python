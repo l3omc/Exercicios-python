{
 "cells": [
  {
   "cell_type": "code",
   "execution_count": null,
   "id": "326c3899",
   "metadata": {},
   "outputs": [],
   "source": [
    "#--------------------LISTA 2 QUESTAO 2 ----------------------\n",
    "\n",
    "#Faça um Programa que peça um valor e mostre na tela se o valor é positivo ou negativo."
   ]
  },
  {
   "cell_type": "code",
   "execution_count": null,
   "id": "3d1f0733",
   "metadata": {},
   "outputs": [],
   "source": [
    "print(\" Faça um Programa que peça um valor e mostre na tela se o valor é positivo ou negativo.\\n\\n\")\n",
    "n = input(\"Por favor digite um número qualquer\")"
   ]
  },
  {
   "cell_type": "code",
   "execution_count": null,
   "id": "e8b5d674",
   "metadata": {},
   "outputs": [],
   "source": [
    "if (n >)"
   ]
  }
 ],
 "metadata": {
  "kernelspec": {
   "display_name": "Python 3 (ipykernel)",
   "language": "python",
   "name": "python3"
  },
  "language_info": {
   "codemirror_mode": {
    "name": "ipython",
    "version": 3
   },
   "file_extension": ".py",
   "mimetype": "text/x-python",
   "name": "python",
   "nbconvert_exporter": "python",
   "pygments_lexer": "ipython3",
   "version": "3.10.6"
  }
 },
 "nbformat": 4,
 "nbformat_minor": 5
}
