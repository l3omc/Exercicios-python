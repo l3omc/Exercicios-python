{
 "cells": [
  {
   "cell_type": "code",
   "execution_count": null,
   "id": "50ba550a",
   "metadata": {},
   "outputs": [],
   "source": [
    "#-------------------LISTA 3 5 ---------------------------\n",
    "\n",
    "#Altere o programa anterior permitindo ao usuário informar as populações e as taxas de crescimento iniciais. \n",
    "#Valide a entrada e permita repetir a operação.\n"
   ]
  },
  {
   "cell_type": "code",
   "execution_count": null,
   "id": "12e578b3",
   "metadata": {},
   "outputs": [],
   "source": [
    "print(\"----------------------------------\")\n",
    "print(\"----------------------------------\")\n",
    "print(\"----------------------------------\")"
   ]
  },
  {
   "cell_type": "code",
   "execution_count": 13,
   "id": "b8445a20",
   "metadata": {},
   "outputs": [
    {
     "name": "stdout",
     "output_type": "stream",
     "text": [
      "Digite a taxa de crescimento de  população do pais A .2\n"
     ]
    },
    {
     "ename": "ValueError",
     "evalue": "invalid literal for int() with base 10: '.2'",
     "output_type": "error",
     "traceback": [
      "\u001b[0;31m---------------------------------------------------------------------------\u001b[0m",
      "\u001b[0;31mValueError\u001b[0m                                Traceback (most recent call last)",
      "\u001b[0;32m/tmp/ipykernel_6625/2534429838.py\u001b[0m in \u001b[0;36m<module>\u001b[0;34m\u001b[0m\n\u001b[1;32m      1\u001b[0m \u001b[0;31m#paisA = int(input(\"Digite a população do pais A \" ))\u001b[0m\u001b[0;34m\u001b[0m\u001b[0;34m\u001b[0m\u001b[0m\n\u001b[1;32m      2\u001b[0m \u001b[0;31m#paisB = int(input(\"Digite a população do pais B \" ))\u001b[0m\u001b[0;34m\u001b[0m\u001b[0;34m\u001b[0m\u001b[0m\n\u001b[0;32m----> 3\u001b[0;31m \u001b[0mtaxaA\u001b[0m \u001b[0;34m=\u001b[0m \u001b[0mfloat\u001b[0m\u001b[0;34m(\u001b[0m\u001b[0mint\u001b[0m\u001b[0;34m(\u001b[0m\u001b[0minput\u001b[0m\u001b[0;34m(\u001b[0m\u001b[0;34m\"Digite a taxa de crescimento de  população do pais A \"\u001b[0m \u001b[0;34m)\u001b[0m\u001b[0;34m)\u001b[0m\u001b[0;34m)\u001b[0m\u001b[0;34m\u001b[0m\u001b[0;34m\u001b[0m\u001b[0m\n\u001b[0m\u001b[1;32m      4\u001b[0m \u001b[0mtaxaA\u001b[0m \u001b[0;34m=\u001b[0m \u001b[0mtaxaA\u001b[0m\u001b[0;34m/\u001b[0m\u001b[0;36m100\u001b[0m\u001b[0;34m\u001b[0m\u001b[0;34m\u001b[0m\u001b[0m\n\u001b[1;32m      5\u001b[0m \u001b[0mtaxaB\u001b[0m \u001b[0;34m=\u001b[0m \u001b[0mfloat\u001b[0m\u001b[0;34m(\u001b[0m\u001b[0mint\u001b[0m\u001b[0;34m(\u001b[0m\u001b[0minput\u001b[0m\u001b[0;34m(\u001b[0m\u001b[0;34m\"Digite a taxa de crescimento de população do pais B \"\u001b[0m \u001b[0;34m)\u001b[0m\u001b[0;34m)\u001b[0m\u001b[0;34m)\u001b[0m\u001b[0;34m\u001b[0m\u001b[0;34m\u001b[0m\u001b[0m\n",
      "\u001b[0;31mValueError\u001b[0m: invalid literal for int() with base 10: '.2'"
     ]
    }
   ],
   "source": [
    "paisA = int(input(\"Digite a população do pais A \" ))\n",
    "paisB = int(input(\"Digite a população do pais B \" ))\n",
    "taxaA = float(int(input(\"Digite a taxa de crescimento de  população do pais A \" )))\n",
    "taxaA = taxaA/100 \n",
    "taxaB = float(int(input(\"Digite a taxa de crescimento de população do pais B \" )))\n",
    "taxaB = taxaB/100\n",
    "aux = 0"
   ]
  },
  {
   "cell_type": "code",
   "execution_count": 6,
   "id": "f695f61c",
   "metadata": {},
   "outputs": [
    {
     "name": "stdout",
     "output_type": "stream",
     "text": [
      " o numero de anos necessarios foram  205\n"
     ]
    }
   ],
   "source": [
    "while paisA <= paisB:\n",
    "    paisA = paisA + (paisA * taxaA)\n",
    "    paisB = paisB + (paisB * taxaB)\n",
    "    aux = aux + 1\n",
    "print(\" o numero de anos necessarios foram \", aux)"
   ]
  },
  {
   "cell_type": "code",
   "execution_count": null,
   "id": "80278450",
   "metadata": {},
   "outputs": [],
   "source": []
  }
 ],
 "metadata": {
  "kernelspec": {
   "display_name": "Python 3 (ipykernel)",
   "language": "python",
   "name": "python3"
  },
  "language_info": {
   "codemirror_mode": {
    "name": "ipython",
    "version": 3
   },
   "file_extension": ".py",
   "mimetype": "text/x-python",
   "name": "python",
   "nbconvert_exporter": "python",
   "pygments_lexer": "ipython3",
   "version": "3.10.6"
  }
 },
 "nbformat": 4,
 "nbformat_minor": 5
}
