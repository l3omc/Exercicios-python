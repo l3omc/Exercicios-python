{
 "cells": [
  {
   "cell_type": "code",
   "execution_count": null,
   "id": "c4bbe241",
   "metadata": {},
   "outputs": [],
   "source": [
    "#-------------------LISTA 3 7 ---------------------------\n",
    "\n",
    "Faça um programa que leia 5 números e informe o maior número."
   ]
  },
  {
   "cell_type": "code",
   "execution_count": null,
   "id": "fe1f5aec",
   "metadata": {},
   "outputs": [],
   "source": [
    "print(\"----------------------------------\")\n",
    "print(\"----------------------------------\")\n",
    "print(\" \")\n",
    "print(\" \")\n",
    "print(\"----------------------------------\")\n",
    "print(\"----------------------------------\")"
   ]
  },
  {
   "cell_type": "code",
   "execution_count": null,
   "id": "7ce84ad7",
   "metadata": {},
   "outputs": [],
   "source": []
  },
  {
   "cell_type": "code",
   "execution_count": null,
   "id": "22243f0e",
   "metadata": {},
   "outputs": [],
   "source": []
  },
  {
   "cell_type": "code",
   "execution_count": null,
   "id": "f18ba3f1",
   "metadata": {},
   "outputs": [],
   "source": []
  },
  {
   "cell_type": "code",
   "execution_count": null,
   "id": "94e58308",
   "metadata": {},
   "outputs": [],
   "source": []
  }
 ],
 "metadata": {
  "kernelspec": {
   "display_name": "Python 3 (ipykernel)",
   "language": "python",
   "name": "python3"
  },
  "language_info": {
   "codemirror_mode": {
    "name": "ipython",
    "version": 3
   },
   "file_extension": ".py",
   "mimetype": "text/x-python",
   "name": "python",
   "nbconvert_exporter": "python",
   "pygments_lexer": "ipython3",
   "version": "3.10.6"
  }
 },
 "nbformat": 4,
 "nbformat_minor": 5
}
