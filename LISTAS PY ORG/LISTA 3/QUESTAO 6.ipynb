{
 "cells": [
  {
   "cell_type": "code",
   "execution_count": null,
   "id": "d5581c4f",
   "metadata": {},
   "outputs": [],
   "source": [
    "#-------------------LISTA 3 6 ---------------------------\n",
    "\n",
    "#Faça um programa que imprima na tela os números de 1 a 20, um abaixo do outro.\n",
    "#Depois modifique o programa para que ele mostre os números um ao lado do outro.\n"
   ]
  },
  {
   "cell_type": "code",
   "execution_count": null,
   "id": "837de194",
   "metadata": {},
   "outputs": [],
   "source": [
    "print(\"----------------------------------\")\n",
    "print(\"----------------------------------\")\n",
    "print(\" Faça um programa que imprima na tela os números de 1 a 20, um abaixo do outro.\")\n",
    "print(\" Depois modifique o programa para que ele mostre os números um ao lado do outro.\")\n",
    "print(\"----------------------------------\")\n",
    "print(\"----------------------------------\")"
   ]
  },
  {
   "cell_type": "code",
   "execution_count": null,
   "id": "c3de5b14",
   "metadata": {},
   "outputs": [],
   "source": []
  }
 ],
 "metadata": {
  "kernelspec": {
   "display_name": "Python 3 (ipykernel)",
   "language": "python",
   "name": "python3"
  },
  "language_info": {
   "codemirror_mode": {
    "name": "ipython",
    "version": 3
   },
   "file_extension": ".py",
   "mimetype": "text/x-python",
   "name": "python",
   "nbconvert_exporter": "python",
   "pygments_lexer": "ipython3",
   "version": "3.10.6"
  }
 },
 "nbformat": 4,
 "nbformat_minor": 5
}
