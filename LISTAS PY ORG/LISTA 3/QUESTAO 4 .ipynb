{
 "cells": [
  {
   "cell_type": "code",
   "execution_count": null,
   "id": "7cc0c75b",
   "metadata": {},
   "outputs": [],
   "source": [
    "#-------------------LISTA 3 4 ---------------------------\n",
    "\n",
    "Supondo que a população de um país A seja da ordem de 80000 habitantes com uma taxa anual de crescimento de 3% \n",
    "e que a população de B seja 200000 habitantes com uma taxa de crescimento de 1.5%. \n",
    "Faça um programa que calcule e escreva o número de anos necessários para que a população\n",
    "do país A ultrapasse ou iguale a população do país B, \n",
    "mantidas as taxas de crescimento."
   ]
  },
  {
   "cell_type": "code",
   "execution_count": null,
   "id": "1a167d13",
   "metadata": {},
   "outputs": [],
   "source": [
    "print(\"----------------------------------\")\n",
    "print(\"----------------------------------\")\n",
    "print(\" \")\n",
    "print(\" \")\n",
    "print(\"----------------------------------\")\n",
    "print(\"----------------------------------\")\n"
   ]
  },
  {
   "cell_type": "code",
   "execution_count": 10,
   "id": "2151c69f",
   "metadata": {},
   "outputs": [],
   "source": [
    "paisA = 80000\n",
    "paisB = 200000\n",
    "taxaA = 0.03\n",
    "taxaB = 0.015\n",
    "aux = 0"
   ]
  },
  {
   "cell_type": "code",
   "execution_count": 18,
   "id": "f4a09e34",
   "metadata": {},
   "outputs": [
    {
     "name": "stdout",
     "output_type": "stream",
     "text": [
      " o numero de anos necessarios foram 63\n"
     ]
    }
   ],
   "source": [
    "while paisA <= paisB:\n",
    "    paisA = paisA + (paisA * taxaA)\n",
    "    paisB = paisB + (paisB * taxaB)\n",
    "    aux = aux + 1\n",
    "print(\" o numero de anos necessarios foram %d\" % aux)"
   ]
  },
  {
   "cell_type": "code",
   "execution_count": 5,
   "id": "3d062ed9",
   "metadata": {},
   "outputs": [],
   "source": [
    " "
   ]
  },
  {
   "cell_type": "code",
   "execution_count": null,
   "id": "b6549c73",
   "metadata": {},
   "outputs": [],
   "source": []
  }
 ],
 "metadata": {
  "kernelspec": {
   "display_name": "Python 3 (ipykernel)",
   "language": "python",
   "name": "python3"
  },
  "language_info": {
   "codemirror_mode": {
    "name": "ipython",
    "version": 3
   },
   "file_extension": ".py",
   "mimetype": "text/x-python",
   "name": "python",
   "nbconvert_exporter": "python",
   "pygments_lexer": "ipython3",
   "version": "3.10.6"
  }
 },
 "nbformat": 4,
 "nbformat_minor": 5
}
