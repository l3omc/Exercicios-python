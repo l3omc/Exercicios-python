{
 "cells": [
  {
   "cell_type": "code",
   "execution_count": null,
   "id": "2ca4fd8b",
   "metadata": {},
   "outputs": [],
   "source": [
    "#-------------------LISTA 3 1---------------------------\n",
    "#Faça um programa que peça uma nota, entre zero e dez. \n",
    "#Mostre uma mensagem caso o valor seja inválido e continue pedindo até que o usuário informe um valor válido."
   ]
  },
  {
   "cell_type": "code",
   "execution_count": null,
   "id": "8b25c0ae",
   "metadata": {},
   "outputs": [],
   "source": [
    "print(\"---------------------\")\n",
    "print(\"Faça um programa que peça uma nota, entre zero e dez.   \")\n",
    "print(\"Mostre uma mensagem caso o valor seja inválido e continue pedindo até que o usuário informe um valor válido.  \")\n",
    "print(\"---------------------\")"
   ]
  },
  {
   "cell_type": "code",
   "execution_count": 1,
   "id": "506aae1d",
   "metadata": {},
   "outputs": [
    {
     "name": "stdout",
     "output_type": "stream",
     "text": [
      "Digite uma nota de 0 a 10 15\n",
      "Nota inválida \n",
      "Digite uma nota de 0 a 10 18\n",
      "Nota inválida \n",
      "Digite uma nota de 0 a 10 -5\n",
      "Nota inválida \n",
      "Digite uma nota de 0 a 10 5\n"
     ]
    }
   ],
   "source": [
    "n = int(input(\"Digite uma nota de 0 a 10 \"))\n",
    "\n",
    "while n < 0 or n > 10:\n",
    "    print(\"Nota inválida \")\n",
    "    n = int(input(\"Digite uma nota de 0 a 10 \"))\n",
    "print(\"nota váluda \")\n",
    "    \n"
   ]
  },
  {
   "cell_type": "code",
   "execution_count": null,
   "id": "5b01b145",
   "metadata": {},
   "outputs": [],
   "source": []
  }
 ],
 "metadata": {
  "kernelspec": {
   "display_name": "Python 3 (ipykernel)",
   "language": "python",
   "name": "python3"
  },
  "language_info": {
   "codemirror_mode": {
    "name": "ipython",
    "version": 3
   },
   "file_extension": ".py",
   "mimetype": "text/x-python",
   "name": "python",
   "nbconvert_exporter": "python",
   "pygments_lexer": "ipython3",
   "version": "3.10.6"
  }
 },
 "nbformat": 4,
 "nbformat_minor": 5
}
